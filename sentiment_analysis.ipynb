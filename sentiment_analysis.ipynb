{
 "cells": [
  {
   "cell_type": "code",
   "execution_count": 1,
   "id": "5f0a0a11",
   "metadata": {},
   "outputs": [],
   "source": [
    "import json"
   ]
  },
  {
   "cell_type": "code",
   "execution_count": 2,
   "id": "c9594612",
   "metadata": {},
   "outputs": [],
   "source": [
    "with open('air_india.json','r') as air_india:\n",
    "    air_india_json=json.load(air_india)"
   ]
  },
  {
   "cell_type": "code",
   "execution_count": 3,
   "id": "df9a6a37",
   "metadata": {},
   "outputs": [],
   "source": [
    "def counting_function(field,jsn):\n",
    "    count=0\n",
    "    for i in range(len(jsn)):\n",
    "        if not jsn[i][field]==None:\n",
    "            count+=1\n",
    "    return count\n",
    "        "
   ]
  },
  {
   "cell_type": "code",
   "execution_count": 4,
   "id": "3da9a51f",
   "metadata": {},
   "outputs": [],
   "source": [
    "def clean_json_data(airline_name):\n",
    "    with open(airline_name,'r') as airline:\n",
    "        airline_json=json.load(airline)\n",
    "        fields=['cabin','content','date','destination','rating','route','title']\n",
    "        print (\"Original\")\n",
    "        for field in fields:\n",
    "            print( field+\": \",counting_function(field,airline_json))\n",
    "        print (\"After clean up\")\n",
    "        new_airline_json=[]\n",
    "        for i in range(len(airline_json)):\n",
    "            if not (airline_json[i]['content']==None and airline_json[i]['title']==None and  airline_json[i]['rating']==None):\n",
    "                new_airline_json.append(airline_json[i])\n",
    "        for field in fields:\n",
    "            print(field+\": \",counting_function(field,new_airline_json))"
   ]
  },
  {
   "cell_type": "code",
   "execution_count": 5,
   "id": "a1a69b2c",
   "metadata": {},
   "outputs": [
    {
     "name": "stdout",
     "output_type": "stream",
     "text": [
      "Original\n",
      "cabin:  5737\n",
      "content:  3491\n",
      "date:  3491\n",
      "destination:  5737\n",
      "rating:  3491\n",
      "route:  5737\n",
      "title:  3491\n",
      "After clean up\n",
      "cabin:  3491\n",
      "content:  3491\n",
      "date:  3491\n",
      "destination:  3491\n",
      "rating:  3491\n",
      "route:  3491\n",
      "title:  3491\n"
     ]
    }
   ],
   "source": [
    "clean_json_data('indigo.json')"
   ]
  },
  {
   "cell_type": "code",
   "execution_count": 6,
   "id": "80363262",
   "metadata": {},
   "outputs": [
    {
     "name": "stdout",
     "output_type": "stream",
     "text": [
      "Original\n",
      "cabin:  2385\n",
      "content:  1505\n",
      "date:  1505\n",
      "destination:  2385\n",
      "rating:  1505\n",
      "route:  2385\n",
      "title:  1505\n",
      "After clean up\n",
      "cabin:  1505\n",
      "content:  1505\n",
      "date:  1505\n",
      "destination:  1505\n",
      "rating:  1505\n",
      "route:  1505\n",
      "title:  1505\n"
     ]
    }
   ],
   "source": [
    "clean_json_data('spicejet.json')"
   ]
  },
  {
   "cell_type": "code",
   "execution_count": 7,
   "id": "b153963f",
   "metadata": {},
   "outputs": [
    {
     "name": "stdout",
     "output_type": "stream",
     "text": [
      "Original\n",
      "cabin:  677\n",
      "content:  424\n",
      "date:  424\n",
      "destination:  677\n",
      "rating:  424\n",
      "route:  677\n",
      "title:  424\n",
      "After clean up\n",
      "cabin:  424\n",
      "content:  424\n",
      "date:  424\n",
      "destination:  424\n",
      "rating:  424\n",
      "route:  424\n",
      "title:  424\n"
     ]
    }
   ],
   "source": [
    "clean_json_data('goair.json')"
   ]
  },
  {
   "cell_type": "markdown",
   "id": "549b61ba",
   "metadata": {},
   "source": [
    "# Preprocess data\n",
    "## Removing stopwords\n",
    "### Removing puctuation marks"
   ]
  },
  {
   "cell_type": "code",
   "execution_count": 13,
   "id": "05c1b8be",
   "metadata": {},
   "outputs": [
    {
     "name": "stderr",
     "output_type": "stream",
     "text": [
      "[nltk_data] Downloading package stopwords to\n",
      "[nltk_data]     C:\\Users\\PIYALI\\AppData\\Roaming\\nltk_data...\n",
      "[nltk_data]   Unzipping corpora\\stopwords.zip.\n"
     ]
    }
   ],
   "source": [
    "import nltk\n",
    "nltk.download('stopwords')\n",
    "from nltk.corpus import stopwords\n",
    "stop_words = set(stopwords.words('english'))\n",
    "useless_words=['air','flight','airlin','goair','indigo','ground','jet','airways','they','i','jetairways','travel','also','took','spice jet','even','fli','also']\n",
    "\n",
    "def preprocess(jsn):\n",
    "    for i in range(len(jsn)):\n",
    "        preprocessed_content=[]\n",
    "        content=jsn[i]['content']\n",
    "        if not content==None:\n",
    "            content=content.split()\n",
    "            for token in content:\n",
    "                if token not in stop_words:\n",
    "                    \n",
    "                    preprocessed_content.append(token.lower())\n",
    "            "
   ]
  },
  {
   "cell_type": "code",
   "execution_count": 10,
   "id": "ec9f2be0",
   "metadata": {},
   "outputs": [
    {
     "name": "stdout",
     "output_type": "stream",
     "text": [
      "Note: you may need to restart the kernel to use updated packages.Collecting nltk\n",
      "  Downloading nltk-3.8.1-py3-none-any.whl.metadata (2.8 kB)\n",
      "Collecting click (from nltk)\n",
      "  Downloading click-8.1.7-py3-none-any.whl.metadata (3.0 kB)\n",
      "Requirement already satisfied: joblib in c:\\users\\piyali\\appdata\\local\\programs\\python\\python311\\lib\\site-packages (from nltk) (1.2.0)\n",
      "Collecting regex>=2021.8.3 (from nltk)\n",
      "  Downloading regex-2023.12.25-cp311-cp311-win_amd64.whl.metadata (41 kB)\n",
      "     ---------------------------------------- 0.0/42.0 kB ? eta -:--:--\n",
      "     -------------------------------------  41.0/42.0 kB 991.0 kB/s eta 0:00:01\n",
      "     -------------------------------------- 42.0/42.0 kB 675.2 kB/s eta 0:00:00\n",
      "Requirement already satisfied: tqdm in c:\\users\\piyali\\appdata\\local\\programs\\python\\python311\\lib\\site-packages (from nltk) (4.66.1)\n",
      "Requirement already satisfied: colorama in c:\\users\\piyali\\appdata\\local\\programs\\python\\python311\\lib\\site-packages (from click->nltk) (0.4.6)\n",
      "Downloading nltk-3.8.1-py3-none-any.whl (1.5 MB)\n",
      "   ---------------------------------------- 0.0/1.5 MB ? eta -:--:--\n",
      "   ----- ---------------------------------- 0.2/1.5 MB 5.8 MB/s eta 0:00:01\n",
      "   --------------------- ------------------ 0.8/1.5 MB 10.1 MB/s eta 0:00:01\n",
      "   ---------------------------------------  1.5/1.5 MB 13.6 MB/s eta 0:00:01\n",
      "   ---------------------------------------- 1.5/1.5 MB 12.0 MB/s eta 0:00:00\n",
      "Downloading regex-2023.12.25-cp311-cp311-win_amd64.whl (269 kB)\n",
      "   ---------------------------------------- 0.0/269.5 kB ? eta -:--:--\n",
      "   --------------------------------------- 269.5/269.5 kB 16.2 MB/s eta 0:00:00\n",
      "Downloading click-8.1.7-py3-none-any.whl (97 kB)\n",
      "   ---------------------------------------- 0.0/97.9 kB ? eta -:--:--\n",
      "   ---------------------------------------- 97.9/97.9 kB 5.8 MB/s eta 0:00:00\n",
      "Installing collected packages: regex, click, nltk\n",
      "Successfully installed click-8.1.7 nltk-3.8.1 regex-2023.12.25\n",
      "\n"
     ]
    },
    {
     "name": "stderr",
     "output_type": "stream",
     "text": [
      "\n",
      "[notice] A new release of pip is available: 23.3.1 -> 24.0\n",
      "[notice] To update, run: python.exe -m pip install --upgrade pip\n"
     ]
    }
   ],
   "source": [
    "pip install nltk"
   ]
  },
  {
   "cell_type": "code",
   "execution_count": 14,
   "id": "1320e258",
   "metadata": {},
   "outputs": [],
   "source": [
    "def read_json(airline_name):\n",
    "    with open(airline_name,'r') as airline:\n",
    "        airline_json=json.load(airline)\n",
    "        return airline_json\n",
    "goair_json=read_json('goair.json')\n",
    "preprocess(goair_json)\n",
    "spicejet_json=read_json('spicejet.json')\n",
    "preprocess(spicejet_json)\n",
    "preprocess(read_json('air_india.json'))\n",
    "preprocess(read_json('indigo.json'))\n",
    "preprocess(read_json('jet_airways.json'))"
   ]
  },
  {
   "cell_type": "code",
   "execution_count": 15,
   "id": "da85c162",
   "metadata": {},
   "outputs": [],
   "source": [
    "from nltk.stem.porter import PorterStemmer\n",
    "import string\n",
    "porter_stemmer = PorterStemmer()   \n",
    "import string\n",
    "import json\n",
    "def read_json(airline_name):\n",
    "    with open(airline_name,'r') as airline:\n",
    "        airline_json=json.load(airline)\n",
    "        return airline_json\n",
    "    \n",
    "def preprocess(jsn):\n",
    "    c=[]\n",
    "    table = {ord(char): None for char in string.punctuation}\n",
    "    for i in range(len(jsn)):\n",
    "        preprocessed_content=[]\n",
    "        content=jsn[i]['content']\n",
    "        \n",
    "        if not content==None:\n",
    "            content=content.split()\n",
    "            for token in content:\n",
    "                if token not in stop_words and not token.lower().translate(table)==\"aed\":\n",
    "                    \n",
    "                    #print token.lower().translate(table)\n",
    "                    preprocessed_content.append(porter_stemmer.stem(token.lower().translate(table)))\n",
    "            c.append(preprocessed_content)\n",
    "    return c"
   ]
  },
  {
   "cell_type": "code",
   "execution_count": 16,
   "id": "7cfc354f",
   "metadata": {},
   "outputs": [],
   "source": [
    "def write_tokens(f,alt):\n",
    "    with open(f,'w') as al:\n",
    "        d={}\n",
    "        for i in range(len(alt)):\n",
    "            d[i]=alt[i]\n",
    "        json.dump(d,al)\n",
    "write_tokens('air_india-token.json',preprocess(read_json('air_india.json')))        \n",
    "write_tokens('spicejet_tokens.json',preprocess(read_json('spicejet.json')))\n",
    "write_tokens('goair_tokens.json',preprocess(read_json('goair.json')))"
   ]
  },
  {
   "cell_type": "code",
   "execution_count": 17,
   "id": "a23b0e6e",
   "metadata": {},
   "outputs": [],
   "source": [
    "import json\n",
    "def calculate_polarity(file):\n",
    "    d={}\n",
    "    with open(file[:len(file)-5]+\"_polarity.json\",'w') as fp:\n",
    "        with open(file,'r') as f :\n",
    "            jsn=json.load(f)\n",
    "            for i in range(len(jsn)):\n",
    "                p=TextBlob(\" \".join(jsn[str(i)])).sentiment.polarity\n",
    "                d[\" \".join(jsn[str(i)])]=p\n",
    "            json.dump(d,fp)"
   ]
  },
  {
   "cell_type": "code",
   "execution_count": 42,
   "id": "ccbeab5e",
   "metadata": {},
   "outputs": [],
   "source": [
    "\n",
    "import hashlib\n",
    "def preprocess(jsn):\n",
    "    c = set()  # Using a set to store hashes of token lists\n",
    "    table = str.maketrans({char: None for char in string.punctuation})\n",
    "\n",
    "    for entry in jsn:\n",
    "        content = entry.get('content')\n",
    "        if content:\n",
    "            tokens = [porter_stemmer.stem(token.lower().translate(table)) for token in content.split()\n",
    "                      if token not in stop_words and token.lower().translate(table) != \"aed\"]\n",
    "            \n",
    "            # Create a hash of the token list for uniqueness check\n",
    "            hash_value = hashlib.md5(' '.join(tokens).encode()).hexdigest()\n",
    "            if hash_value not in c:\n",
    "                c.add(hash_value)\n",
    "                yield tokens\n",
    "\n",
    "def write_tokens(f, alt):\n",
    "    with open(f, 'w') as al:\n",
    "        json.dump({i: token_list for i, token_list in enumerate(alt)}, al)\n",
    "\n",
    "write_tokens('indigo_tokens.json', preprocess(read_json('indigo.json')))\n",
    "write_tokens('jet_airways-token.json', preprocess(read_json('jet_airways.json')))\n"
   ]
  },
  {
   "cell_type": "code",
   "execution_count": 20,
   "id": "bc3a2d31",
   "metadata": {},
   "outputs": [
    {
     "data": {
      "text/plain": [
       "<bound method BaseBlob.classify of TextBlob(\"Textblob is amazingly simple to use. What great fun!\")>"
      ]
     },
     "execution_count": 20,
     "metadata": {},
     "output_type": "execute_result"
    }
   ],
   "source": [
    "from textblob import TextBlob\n",
    "TextBlob\n",
    "testimonial = TextBlob(\"Textblob is amazingly simple to use. What great fun!\")\n",
    "testimonial.sentiment.polarity\n",
    "testimonial.classify"
   ]
  },
  {
   "cell_type": "code",
   "execution_count": 19,
   "id": "4336e221",
   "metadata": {},
   "outputs": [
    {
     "name": "stdout",
     "output_type": "stream",
     "text": [
      "Collecting TextBlob\n",
      "  Downloading textblob-0.18.0.post0-py3-none-any.whl.metadata (4.5 kB)\n",
      "Requirement already satisfied: nltk>=3.8 in c:\\users\\piyali\\appdata\\local\\programs\\python\\python311\\lib\\site-packages (from TextBlob) (3.8.1)\n",
      "Requirement already satisfied: click in c:\\users\\piyali\\appdata\\local\\programs\\python\\python311\\lib\\site-packages (from nltk>=3.8->TextBlob) (8.1.7)\n",
      "Requirement already satisfied: joblib in c:\\users\\piyali\\appdata\\local\\programs\\python\\python311\\lib\\site-packages (from nltk>=3.8->TextBlob) (1.2.0)\n",
      "Requirement already satisfied: regex>=2021.8.3 in c:\\users\\piyali\\appdata\\local\\programs\\python\\python311\\lib\\site-packages (from nltk>=3.8->TextBlob) (2023.12.25)\n",
      "Requirement already satisfied: tqdm in c:\\users\\piyali\\appdata\\local\\programs\\python\\python311\\lib\\site-packages (from nltk>=3.8->TextBlob) (4.66.1)\n",
      "Requirement already satisfied: colorama in c:\\users\\piyali\\appdata\\local\\programs\\python\\python311\\lib\\site-packages (from click->nltk>=3.8->TextBlob) (0.4.6)\n",
      "Downloading textblob-0.18.0.post0-py3-none-any.whl (626 kB)\n",
      "   ---------------------------------------- 0.0/626.3 kB ? eta -:--:--\n",
      "   ---------------------------------------- 0.0/626.3 kB ? eta -:--:--\n",
      "   -- ------------------------------------- 41.0/626.3 kB 1.9 MB/s eta 0:00:01\n",
      "   -- ------------------------------------- 41.0/626.3 kB 1.9 MB/s eta 0:00:01\n",
      "   ------- ------------------------------ 122.9/626.3 kB 901.1 kB/s eta 0:00:01\n",
      "   ------- ------------------------------ 122.9/626.3 kB 901.1 kB/s eta 0:00:01\n",
      "   ------------ ------------------------- 204.8/626.3 kB 888.4 kB/s eta 0:00:01\n",
      "   ---------------- --------------------- 276.5/626.3 kB 947.5 kB/s eta 0:00:01\n",
      "   ------------------------- -------------- 399.4/626.3 kB 1.2 MB/s eta 0:00:01\n",
      "   ------------------------- -------------- 399.4/626.3 kB 1.2 MB/s eta 0:00:01\n",
      "   ------------------------------ --------- 481.3/626.3 kB 1.2 MB/s eta 0:00:01\n",
      "   ------------------------------------- -- 583.7/626.3 kB 1.3 MB/s eta 0:00:01\n",
      "   ---------------------------------------- 626.3/626.3 kB 1.2 MB/s eta 0:00:00\n",
      "Installing collected packages: TextBlob\n",
      "Successfully installed TextBlob-0.18.0.post0\n",
      "Note: you may need to restart the kernel to use updated packages.\n"
     ]
    },
    {
     "name": "stderr",
     "output_type": "stream",
     "text": [
      "\n",
      "[notice] A new release of pip is available: 23.3.1 -> 24.0\n",
      "[notice] To update, run: python.exe -m pip install --upgrade pip\n"
     ]
    }
   ],
   "source": [
    "pip install TextBlob"
   ]
  },
  {
   "cell_type": "code",
   "execution_count": 21,
   "id": "5a503f0f",
   "metadata": {},
   "outputs": [
    {
     "name": "stdout",
     "output_type": "stream",
     "text": [
      "Positive : 289 Negative : 74 Nuetral : 61 Total : 424\n",
      "Positive : 2063 Negative : 574 Nuetral : 234 Total : 2871\n",
      "Positive : 4695 Negative : 984 Nuetral : 645 Total : 6324\n",
      "Positive : 988 Negative : 310 Nuetral : 207 Total : 1505\n",
      "Positive : 2597 Negative : 483 Nuetral : 408 Total : 3488\n"
     ]
    }
   ],
   "source": [
    "def count_polarity(file):\n",
    "    with open(file) as f:\n",
    "        jsn=json.load(f)\n",
    "        n=0\n",
    "        p=0\n",
    "        z=0\n",
    "        for i in jsn.keys():\n",
    "            if jsn[i]>0:\n",
    "                p+=1\n",
    "            elif jsn[i]<0:\n",
    "                n+=1\n",
    "            elif round(jsn[i],4)==0.0000:\n",
    "                z+=1\n",
    "        print(\"Positive : \"+str(p),\"Negative : \"+str(n),\"Nuetral : \"+str(z),\"Total : \"+str(len(jsn.keys())))\n",
    "calculate_polarity('goair_tokens.json')        \n",
    "count_polarity('goair_tokens_polarity.json')\n",
    "calculate_polarity('air_india-token.json')\n",
    "count_polarity('air_india-token_polarity.json')\n",
    "calculate_polarity('jet_airways-token.json')\n",
    "count_polarity('jet_airways-token_polarity.json')\n",
    "calculate_polarity('spicejet_tokens.json')\n",
    "count_polarity('spicejet_tokens_polarity.json')\n",
    "calculate_polarity('indigo_tokens.json')\n",
    "count_polarity('indigo_tokens_polarity.json')"
   ]
  },
  {
   "cell_type": "code",
   "execution_count": 40,
   "id": "fc375cd8",
   "metadata": {},
   "outputs": [],
   "source": [
    "calculate_polarity('goair_tokens.json')"
   ]
  },
  {
   "cell_type": "code",
   "execution_count": 22,
   "id": "61d4a05f",
   "metadata": {},
   "outputs": [
    {
     "data": {
      "image/png": "[encoded data removed]",
      "text/plain": [
       "<Figure size 640x480 with 1 Axes>"
      ]
     },
     "metadata": {},
     "output_type": "display_data"
    }
   ],
   "source": [
    "import numpy as np\n",
    "import matplotlib.pyplot as plt\n",
    "from matplotlib import rc\n",
    "import pandas as pd\n",
    " \n",
    "# y-axis in bold\n",
    "rc('font', weight='bold')\n",
    " \n",
    "# Values of each group\n",
    "bars1 = [4695, 2597, 2070, 988, 289]\n",
    "bars2 = [984, 483, 614, 310, 74]\n",
    "bars3 = [655, 414, 189, 214, 61]\n",
    " \n",
    "# Heights of bars1 + bars2 (TO DO better)\n",
    "bars = [5679, 3080, 2684, 1298, 363]\n",
    " \n",
    "# The position of the bars on the x-axis\n",
    "r = [0,1,2,3,4]\n",
    " \n",
    "# Names of group and bar width\n",
    "names = ['Jet Airways','Indigo','Air India','Spicejet','Go Air']\n",
    "barWidth = .825\n",
    "# Create brown bars\n",
    "p1=plt.bar(r, bars1, edgecolor='white', width=barWidth)\n",
    "# Create green bars (middle), on top of the firs ones\n",
    "p2=plt.bar(r, bars2, bottom=bars1, edgecolor='white', width=barWidth)\n",
    "# Create green bars (top)\n",
    "p3=plt.bar(r, bars3, bottom=bars, edgecolor='white', width=barWidth)\n",
    " \n",
    "# Custom X axis\n",
    "plt.xticks(r, names, fontweight='bold')\n",
    "plt.xlabel(\"Airlines\")\n",
    "plt.ylabel(\"Number of Reviews\")\n",
    "plt.legend((p1[0], p2[0],p3[0]), (\"Positive\",\"Negative\" ,'Nuetral'))\n",
    "# Show graphic\n",
    "plt.show()"
   ]
  },
  {
   "cell_type": "code",
   "execution_count": 24,
   "id": "2923f793",
   "metadata": {},
   "outputs": [
    {
     "data": {
      "image/png": "[encoded data removed]",
      "text/plain": [
       "<Figure size 640x480 with 1 Axes>"
      ]
     },
     "metadata": {},
     "output_type": "display_data"
    }
   ],
   "source": [
    "import numpy as np\n",
    "import matplotlib.pyplot as plt\n",
    "from matplotlib import rc\n",
    "import pandas as pd\n",
    " \n",
    "# Data\n",
    "r = [0,1,2,3,4]\n",
    "raw_data = {'greenBars': [4695, 2597, 2070, 988, 289], 'orangeBars': [984, 483, 614, 310, 74],'blueBars':  [655, 414, 189, 214, 61]}\n",
    "df = pd.DataFrame(raw_data)\n",
    " \n",
    "# From raw value to percentage\n",
    "totals = [i+j+k for i,j,k in zip(df['greenBars'], df['orangeBars'], df['blueBars'])]\n",
    "greenBars = [i / j  for i,j in zip(df['greenBars'], totals)]\n",
    "orangeBars = [i / j  for i,j in zip(df['orangeBars'], totals)]\n",
    "blueBars = [i / j  for i,j in zip(df['blueBars'], totals)]\n",
    " \n",
    "# plot\n",
    "barWidth = 0.85\n",
    "\n",
    "names = ('Jet Airways','Indigo','Air India','Spicejet','Go Air')\n",
    "# Create green Bars\n",
    "p1=plt.bar(r, greenBars, color='#b5ffb9', edgecolor='white', width=barWidth)\n",
    "# Create orange Bars\n",
    "p2=plt.bar(r, orangeBars, bottom=greenBars, color='#f9bc86', edgecolor='white', width=barWidth)\n",
    "# Create blue Bars\n",
    "p3=plt.bar(r, blueBars, bottom=[i+j for i,j in zip(greenBars, orangeBars)], color='#a3acff', edgecolor='white', width=barWidth)\n",
    " \n",
    "# Custom x axis\n",
    "plt.xticks(r, names)\n",
    "plt.xlabel(\"Airlines\")\n",
    "plt.ylabel(\"Fraction of Reviews\")\n",
    "plt.legend((p1[0], p2[0],p3[0]), (\"#Positive/#Total\",\"#Negative/#Total\" ,'#Nuetral/#Total'))\n",
    "# Show graphic\n",
    "plt.show()"
   ]
  },
  {
   "cell_type": "code",
   "execution_count": 25,
   "id": "5089146a",
   "metadata": {},
   "outputs": [],
   "source": [
    "positive = []\n",
    "for i in range(1,5):\n",
    "\n",
    "  positive.append( greenBars[i] *totals[i] )\n"
   ]
  },
  {
   "cell_type": "code",
   "execution_count": 26,
   "id": "c33f73d9",
   "metadata": {},
   "outputs": [],
   "source": [
    "negative=[]\n",
    "for i in range(1,5):\n",
    "\n",
    "  negative.append( orangeBars[i] *totals[i] )\n"
   ]
  },
  {
   "cell_type": "code",
   "execution_count": 27,
   "id": "dc3d149e",
   "metadata": {},
   "outputs": [],
   "source": [
    "neutral = []\n",
    "for i in range(1,5):\n",
    "\n",
    "  neutral.append( blueBars[i] *totals[i] )\n"
   ]
  },
  {
   "cell_type": "code",
   "execution_count": 28,
   "id": "6411db5b",
   "metadata": {},
   "outputs": [],
   "source": [
    "def reviews(file):\n",
    "    with open(file) as f:\n",
    "        jsn=json.load(f)\n",
    "        rev=[]\n",
    "        for i in jsn.keys():\n",
    "            if jsn[i]>0:\n",
    "                rev.append('Positive')\n",
    "            elif jsn[i]<0:\n",
    "                rev.append('Negative')\n",
    "            elif round(jsn[i],4)==0.0000:\n",
    "                rev.append('Neutral')\n",
    "    return rev"
   ]
  },
  {
   "cell_type": "code",
   "execution_count": 29,
   "id": "cdea11ba",
   "metadata": {},
   "outputs": [],
   "source": [
    "rev_goair=reviews('goair_tokens_polarity.json')\n",
    "rev_air_india=reviews('air_india-token_polarity.json') \n",
    "rev_jet_air=reviews('jet_airways-token_polarity.json')\n",
    "rev_indigo=reviews('indigo_tokens_polarity.json')\n",
    "rev_spicejet=reviews('spicejet_tokens_polarity.json')"
   ]
  },
  {
   "cell_type": "code",
   "execution_count": 30,
   "id": "a0151a7a",
   "metadata": {},
   "outputs": [],
   "source": [
    "sentiment_map = {'Neutral': 0, 'Positive': 1, 'Negative': 2}\n",
    "\n",
    "# Replace sentiment labels with numerical values\n",
    "review_goair = [sentiment_map[label] for label in rev_goair]\n",
    "review_air_india=  [sentiment_map[label] for label in rev_air_india]\n",
    "review_jet_air =  [sentiment_map[label] for label in rev_jet_air]\n",
    "review_indigo =  [sentiment_map[label] for label in rev_indigo]\n",
    "review_spicejet =  [sentiment_map[label] for label in rev_spicejet]"
   ]
  },
  {
   "cell_type": "code",
   "execution_count": 31,
   "id": "634d97a0",
   "metadata": {},
   "outputs": [],
   "source": [
    "from sklearn.feature_extraction.text import CountVectorizer\n",
    "from sklearn.model_selection import train_test_split\n",
    "\n",
    "with open('goair_tokens.json', 'r') as file:\n",
    "     token_data = json.load(file)\n",
    "\n",
    "# Convert lists of tokens into strings\n",
    "text_data1 = [' '.join(tokens) for tokens in token_data.values()]\n",
    "\n",
    "cv = CountVectorizer()\n",
    "X = cv.fit_transform(text_data1)\n",
    "X_train1 ,X_test1 ,Y_train1 , Y_test1 = train_test_split(text_data1 ,review_goair , test_size=0.2)\n"
   ]
  },
  {
   "cell_type": "code",
   "execution_count": 32,
   "id": "59cbdf4b",
   "metadata": {},
   "outputs": [],
   "source": [
    "with open('air_india-token.json', 'r') as file:\n",
    "     token_data = json.load(file)\n",
    "\n",
    "# Convert lists of tokens into strings\n",
    "text_data2 = [' '.join(tokens) for tokens in token_data.values()]\n",
    "\n",
    "cv = CountVectorizer()\n",
    "X = cv.fit_transform(text_data2)\n",
    "X_train2 ,X_test2 ,Y_train2 , Y_test2 = train_test_split(text_data2 ,review_air_india , test_size=0.2)\n",
    "\n"
   ]
  },
  {
   "cell_type": "code",
   "execution_count": 43,
   "id": "791446ed",
   "metadata": {},
   "outputs": [],
   "source": [
    "with open('indigo_tokens.json', 'r') as file:\n",
    "     token_data = json.load(file)\n",
    "\n",
    "# Convert lists of tokens into strings\n",
    "text_data4 = [' '.join(tokens) for tokens in token_data.values()]\n",
    "\n",
    "cv = CountVectorizer()\n",
    "X = cv.fit_transform(text_data4)\n",
    "X_train4 ,X_test4 ,Y_train4 , Y_test4 = train_test_split(text_data4 ,review_indigo , test_size=0.2)\n",
    "\n",
    "\n"
   ]
  },
  {
   "cell_type": "code",
   "execution_count": 44,
   "id": "345a593a",
   "metadata": {},
   "outputs": [],
   "source": [
    "with open('jet_airways-token.json', 'r') as file:\n",
    "     token_data = json.load(file)\n",
    "\n",
    "# Convert lists of tokens into strings\n",
    "text_data3 = [' '.join(tokens) for tokens in token_data.values()]\n",
    "\n",
    "cv = CountVectorizer()\n",
    "X = cv.fit_transform(text_data3)\n",
    "X_train3 ,X_test3 ,Y_train3 , Y_test3 = train_test_split(text_data3 ,review_jet_air , test_size=0.2)\n",
    "\n"
   ]
  },
  {
   "cell_type": "code",
   "execution_count": 37,
   "id": "7428d837",
   "metadata": {},
   "outputs": [
    {
     "name": "stdout",
     "output_type": "stream",
     "text": [
      "Accuracy score from linear SVC model:               precision    recall  f1-score   support\n",
      "\n",
      "           0       0.00      0.00      0.00        14\n",
      "           1       0.71      1.00      0.83        60\n",
      "           2       0.00      0.00      0.00        11\n",
      "\n",
      "    accuracy                           0.71        85\n",
      "   macro avg       0.24      0.33      0.28        85\n",
      "weighted avg       0.50      0.71      0.58        85\n",
      "\n",
      "Accuracy score from Naive Bayes model:               precision    recall  f1-score   support\n",
      "\n",
      "           0       0.00      0.00      0.00        14\n",
      "           1       0.71      1.00      0.83        60\n",
      "           2       0.00      0.00      0.00        11\n",
      "\n",
      "    accuracy                           0.71        85\n",
      "   macro avg       0.24      0.33      0.28        85\n",
      "weighted avg       0.50      0.71      0.58        85\n",
      "\n"
     ]
    },
    {
     "name": "stderr",
     "output_type": "stream",
     "text": [
      "C:\\Users\\PIYALI\\AppData\\Local\\Programs\\Python\\Python311\\Lib\\site-packages\\sklearn\\metrics\\_classification.py:1344: UndefinedMetricWarning: Precision and F-score are ill-defined and being set to 0.0 in labels with no predicted samples. Use `zero_division` parameter to control this behavior.\n",
      "  _warn_prf(average, modifier, msg_start, len(result))\n",
      "C:\\Users\\PIYALI\\AppData\\Local\\Programs\\Python\\Python311\\Lib\\site-packages\\sklearn\\metrics\\_classification.py:1344: UndefinedMetricWarning: Precision and F-score are ill-defined and being set to 0.0 in labels with no predicted samples. Use `zero_division` parameter to control this behavior.\n",
      "  _warn_prf(average, modifier, msg_start, len(result))\n",
      "C:\\Users\\PIYALI\\AppData\\Local\\Programs\\Python\\Python311\\Lib\\site-packages\\sklearn\\metrics\\_classification.py:1344: UndefinedMetricWarning: Precision and F-score are ill-defined and being set to 0.0 in labels with no predicted samples. Use `zero_division` parameter to control this behavior.\n",
      "  _warn_prf(average, modifier, msg_start, len(result))\n",
      "C:\\Users\\PIYALI\\AppData\\Local\\Programs\\Python\\Python311\\Lib\\site-packages\\sklearn\\metrics\\_classification.py:1344: UndefinedMetricWarning: Precision and F-score are ill-defined and being set to 0.0 in labels with no predicted samples. Use `zero_division` parameter to control this behavior.\n",
      "  _warn_prf(average, modifier, msg_start, len(result))\n",
      "C:\\Users\\PIYALI\\AppData\\Local\\Programs\\Python\\Python311\\Lib\\site-packages\\sklearn\\metrics\\_classification.py:1344: UndefinedMetricWarning: Precision and F-score are ill-defined and being set to 0.0 in labels with no predicted samples. Use `zero_division` parameter to control this behavior.\n",
      "  _warn_prf(average, modifier, msg_start, len(result))\n",
      "C:\\Users\\PIYALI\\AppData\\Local\\Programs\\Python\\Python311\\Lib\\site-packages\\sklearn\\metrics\\_classification.py:1344: UndefinedMetricWarning: Precision and F-score are ill-defined and being set to 0.0 in labels with no predicted samples. Use `zero_division` parameter to control this behavior.\n",
      "  _warn_prf(average, modifier, msg_start, len(result))\n"
     ]
    }
   ],
   "source": [
    "from sklearn.model_selection import train_test_split\n",
    "from sklearn.feature_extraction.text import TfidfTransformer\n",
    "from sklearn.feature_extraction.text import TfidfVectorizer\n",
    "from sklearn.metrics import accuracy_score\n",
    "from sklearn.metrics import classification_report\n",
    "from sklearn import svm\n",
    "from sklearn.naive_bayes import MultinomialNB\n",
    "\n",
    "svc = svm.SVC()\n",
    "vectorizer = TfidfVectorizer()\n",
    "\n",
    "nb = MultinomialNB()\n",
    "\n",
    "\n",
    "\n",
    "with open('goair_tokens.json', 'r') as file:\n",
    "     token_data = json.load(file)\n",
    "\n",
    "# Convert lists of tokens into strings\n",
    "text_data1 = [' '.join(tokens) for tokens in token_data.values()]\n",
    "\n",
    "X_train1 ,X_test1 ,Y_train1 , Y_test1 = train_test_split(text_data1 ,review_goair , test_size=0.2)\n",
    "\n",
    "train_vectors = vectorizer.fit_transform(X_train1)\n",
    "test_vectors = vectorizer.transform(X_test1)\n",
    "clf = svc.fit(train_vectors, Y_train1)\n",
    "clf2 = nb.fit(train_vectors, Y_train1)\n",
    "\n",
    "predicted = clf.predict(test_vectors)\n",
    "print(\"Accuracy score from linear SVC model:\", classification_report(Y_test1, predicted))\n",
    "\n",
    "predicted2 = clf2.predict(test_vectors)\n",
    "print(\"Accuracy score from Naive Bayes model:\", classification_report(Y_test1, predicted2))\n"
   ]
  },
  {
   "cell_type": "code",
   "execution_count": 38,
   "id": "c805efa1",
   "metadata": {},
   "outputs": [
    {
     "name": "stdout",
     "output_type": "stream",
     "text": [
      "Accuracy score from linear SVC model:               precision    recall  f1-score   support\n",
      "\n",
      "           0       0.00      0.00      0.00        39\n",
      "           1       0.76      1.00      0.86       416\n",
      "           2       0.94      0.24      0.38       120\n",
      "\n",
      "    accuracy                           0.77       575\n",
      "   macro avg       0.57      0.41      0.42       575\n",
      "weighted avg       0.75      0.77      0.70       575\n",
      "\n",
      "Accuracy score from Naive Bayes model:               precision    recall  f1-score   support\n",
      "\n",
      "           0       0.00      0.00      0.00        39\n",
      "           1       0.72      1.00      0.84       416\n",
      "           2       0.00      0.00      0.00       120\n",
      "\n",
      "    accuracy                           0.72       575\n",
      "   macro avg       0.24      0.33      0.28       575\n",
      "weighted avg       0.52      0.72      0.61       575\n",
      "\n"
     ]
    },
    {
     "name": "stderr",
     "output_type": "stream",
     "text": [
      "C:\\Users\\PIYALI\\AppData\\Local\\Programs\\Python\\Python311\\Lib\\site-packages\\sklearn\\metrics\\_classification.py:1344: UndefinedMetricWarning: Precision and F-score are ill-defined and being set to 0.0 in labels with no predicted samples. Use `zero_division` parameter to control this behavior.\n",
      "  _warn_prf(average, modifier, msg_start, len(result))\n",
      "C:\\Users\\PIYALI\\AppData\\Local\\Programs\\Python\\Python311\\Lib\\site-packages\\sklearn\\metrics\\_classification.py:1344: UndefinedMetricWarning: Precision and F-score are ill-defined and being set to 0.0 in labels with no predicted samples. Use `zero_division` parameter to control this behavior.\n",
      "  _warn_prf(average, modifier, msg_start, len(result))\n",
      "C:\\Users\\PIYALI\\AppData\\Local\\Programs\\Python\\Python311\\Lib\\site-packages\\sklearn\\metrics\\_classification.py:1344: UndefinedMetricWarning: Precision and F-score are ill-defined and being set to 0.0 in labels with no predicted samples. Use `zero_division` parameter to control this behavior.\n",
      "  _warn_prf(average, modifier, msg_start, len(result))\n",
      "C:\\Users\\PIYALI\\AppData\\Local\\Programs\\Python\\Python311\\Lib\\site-packages\\sklearn\\metrics\\_classification.py:1344: UndefinedMetricWarning: Precision and F-score are ill-defined and being set to 0.0 in labels with no predicted samples. Use `zero_division` parameter to control this behavior.\n",
      "  _warn_prf(average, modifier, msg_start, len(result))\n",
      "C:\\Users\\PIYALI\\AppData\\Local\\Programs\\Python\\Python311\\Lib\\site-packages\\sklearn\\metrics\\_classification.py:1344: UndefinedMetricWarning: Precision and F-score are ill-defined and being set to 0.0 in labels with no predicted samples. Use `zero_division` parameter to control this behavior.\n",
      "  _warn_prf(average, modifier, msg_start, len(result))\n",
      "C:\\Users\\PIYALI\\AppData\\Local\\Programs\\Python\\Python311\\Lib\\site-packages\\sklearn\\metrics\\_classification.py:1344: UndefinedMetricWarning: Precision and F-score are ill-defined and being set to 0.0 in labels with no predicted samples. Use `zero_division` parameter to control this behavior.\n",
      "  _warn_prf(average, modifier, msg_start, len(result))\n"
     ]
    }
   ],
   "source": [
    "with open('air_india-token.json', 'r') as file:\n",
    "     token_data = json.load(file)\n",
    "\n",
    "# Convert lists of tokens into strings\n",
    "text_data2 = [' '.join(tokens) for tokens in token_data.values()]\n",
    "\n",
    "\n",
    "X_train2 ,X_test2 ,Y_train2 , Y_test2 = train_test_split(text_data2 ,review_air_india , test_size=0.2)\n",
    "train_vectors = vectorizer.fit_transform(X_train2)\n",
    "test_vectors = vectorizer.transform(X_test2)\n",
    "clf = svc.fit(train_vectors, Y_train2)\n",
    "\n",
    "predicted = clf.predict(test_vectors)\n",
    "print(\"Accuracy score from linear SVC model:\", classification_report(Y_test2, predicted))\n",
    "clf2 = nb.fit(train_vectors, Y_train2)\n",
    "predicted2 = clf2.predict(test_vectors)\n",
    "print(\"Accuracy score from Naive Bayes model:\", classification_report(Y_test2, predicted2))\n"
   ]
  },
  {
   "cell_type": "code",
   "execution_count": 46,
   "id": "b2af0eea",
   "metadata": {},
   "outputs": [
    {
     "name": "stdout",
     "output_type": "stream",
     "text": [
      "Accuracy score from linear SVC model:               precision    recall  f1-score   support\n",
      "\n",
      "           0       0.00      0.00      0.00        92\n",
      "           1       0.74      1.00      0.85       508\n",
      "           2       1.00      0.13      0.23        98\n",
      "\n",
      "    accuracy                           0.75       698\n",
      "   macro avg       0.58      0.38      0.36       698\n",
      "weighted avg       0.68      0.75      0.65       698\n",
      "\n",
      "Accuracy score from Naive Bayes model:               precision    recall  f1-score   support\n",
      "\n",
      "           0       0.00      0.00      0.00        92\n",
      "           1       0.73      1.00      0.84       508\n",
      "           2       0.00      0.00      0.00        98\n",
      "\n",
      "    accuracy                           0.73       698\n",
      "   macro avg       0.24      0.33      0.28       698\n",
      "weighted avg       0.53      0.73      0.61       698\n",
      "\n"
     ]
    },
    {
     "name": "stderr",
     "output_type": "stream",
     "text": [
      "C:\\Users\\PIYALI\\AppData\\Local\\Programs\\Python\\Python311\\Lib\\site-packages\\sklearn\\metrics\\_classification.py:1344: UndefinedMetricWarning: Precision and F-score are ill-defined and being set to 0.0 in labels with no predicted samples. Use `zero_division` parameter to control this behavior.\n",
      "  _warn_prf(average, modifier, msg_start, len(result))\n",
      "C:\\Users\\PIYALI\\AppData\\Local\\Programs\\Python\\Python311\\Lib\\site-packages\\sklearn\\metrics\\_classification.py:1344: UndefinedMetricWarning: Precision and F-score are ill-defined and being set to 0.0 in labels with no predicted samples. Use `zero_division` parameter to control this behavior.\n",
      "  _warn_prf(average, modifier, msg_start, len(result))\n",
      "C:\\Users\\PIYALI\\AppData\\Local\\Programs\\Python\\Python311\\Lib\\site-packages\\sklearn\\metrics\\_classification.py:1344: UndefinedMetricWarning: Precision and F-score are ill-defined and being set to 0.0 in labels with no predicted samples. Use `zero_division` parameter to control this behavior.\n",
      "  _warn_prf(average, modifier, msg_start, len(result))\n",
      "C:\\Users\\PIYALI\\AppData\\Local\\Programs\\Python\\Python311\\Lib\\site-packages\\sklearn\\metrics\\_classification.py:1344: UndefinedMetricWarning: Precision and F-score are ill-defined and being set to 0.0 in labels with no predicted samples. Use `zero_division` parameter to control this behavior.\n",
      "  _warn_prf(average, modifier, msg_start, len(result))\n",
      "C:\\Users\\PIYALI\\AppData\\Local\\Programs\\Python\\Python311\\Lib\\site-packages\\sklearn\\metrics\\_classification.py:1344: UndefinedMetricWarning: Precision and F-score are ill-defined and being set to 0.0 in labels with no predicted samples. Use `zero_division` parameter to control this behavior.\n",
      "  _warn_prf(average, modifier, msg_start, len(result))\n",
      "C:\\Users\\PIYALI\\AppData\\Local\\Programs\\Python\\Python311\\Lib\\site-packages\\sklearn\\metrics\\_classification.py:1344: UndefinedMetricWarning: Precision and F-score are ill-defined and being set to 0.0 in labels with no predicted samples. Use `zero_division` parameter to control this behavior.\n",
      "  _warn_prf(average, modifier, msg_start, len(result))\n"
     ]
    }
   ],
   "source": [
    "with open('indigo_tokens.json', 'r') as file:\n",
    "     token_data = json.load(file)\n",
    "\n",
    "# Convert lists of tokens into strings\n",
    "text_data3 = [' '.join(tokens) for tokens in token_data.values()]\n",
    "\n",
    "\n",
    "X_train3 ,X_test3 ,Y_train3 , Y_test3 = train_test_split(text_data3 ,review_indigo , test_size=0.2)\n",
    "train_vectors = vectorizer.fit_transform(X_train3)\n",
    "test_vectors = vectorizer.transform(X_test3)\n",
    "clf = svc.fit(train_vectors, Y_train3)\n",
    "\n",
    "predicted = clf.predict(test_vectors)\n",
    "print(\"Accuracy score from linear SVC model:\", classification_report(Y_test3, predicted))\n",
    "clf2 = nb.fit(train_vectors, Y_train3)\n",
    "predicted2 = clf2.predict(test_vectors)\n",
    "print(\"Accuracy score from Naive Bayes model:\", classification_report(Y_test3, predicted2))\n"
   ]
  },
  {
   "cell_type": "code",
   "execution_count": 47,
   "id": "be3c7cb7",
   "metadata": {},
   "outputs": [
    {
     "name": "stdout",
     "output_type": "stream",
     "text": [
      "Accuracy score from linear SVC model:               precision    recall  f1-score   support\n",
      "\n",
      "           0       1.00      0.01      0.02       130\n",
      "           1       0.79      1.00      0.88       944\n",
      "           2       0.89      0.36      0.51       191\n",
      "\n",
      "    accuracy                           0.80      1265\n",
      "   macro avg       0.90      0.45      0.47      1265\n",
      "weighted avg       0.83      0.80      0.74      1265\n",
      "\n",
      "Accuracy score from Naive Bayes model:               precision    recall  f1-score   support\n",
      "\n",
      "           0       0.00      0.00      0.00       130\n",
      "           1       0.75      1.00      0.85       944\n",
      "           2       0.00      0.00      0.00       191\n",
      "\n",
      "    accuracy                           0.75      1265\n",
      "   macro avg       0.25      0.33      0.28      1265\n",
      "weighted avg       0.56      0.75      0.64      1265\n",
      "\n"
     ]
    },
    {
     "name": "stderr",
     "output_type": "stream",
     "text": [
      "C:\\Users\\PIYALI\\AppData\\Local\\Programs\\Python\\Python311\\Lib\\site-packages\\sklearn\\metrics\\_classification.py:1344: UndefinedMetricWarning: Precision and F-score are ill-defined and being set to 0.0 in labels with no predicted samples. Use `zero_division` parameter to control this behavior.\n",
      "  _warn_prf(average, modifier, msg_start, len(result))\n",
      "C:\\Users\\PIYALI\\AppData\\Local\\Programs\\Python\\Python311\\Lib\\site-packages\\sklearn\\metrics\\_classification.py:1344: UndefinedMetricWarning: Precision and F-score are ill-defined and being set to 0.0 in labels with no predicted samples. Use `zero_division` parameter to control this behavior.\n",
      "  _warn_prf(average, modifier, msg_start, len(result))\n",
      "C:\\Users\\PIYALI\\AppData\\Local\\Programs\\Python\\Python311\\Lib\\site-packages\\sklearn\\metrics\\_classification.py:1344: UndefinedMetricWarning: Precision and F-score are ill-defined and being set to 0.0 in labels with no predicted samples. Use `zero_division` parameter to control this behavior.\n",
      "  _warn_prf(average, modifier, msg_start, len(result))\n"
     ]
    }
   ],
   "source": [
    "with open('jet_airways-token.json', 'r') as file:\n",
    "     token_data = json.load(file)\n",
    "\n",
    "# Convert lists of tokens into strings\n",
    "text_data4 = [' '.join(tokens) for tokens in token_data.values()]\n",
    "\n",
    "\n",
    "X_train4 ,X_test4 ,Y_train4 , Y_test4 = train_test_split(text_data4 ,review_jet_air , test_size=0.2)\n",
    "train_vectors = vectorizer.fit_transform(X_train4)\n",
    "test_vectors = vectorizer.transform(X_test4)\n",
    "clf = svc.fit(train_vectors, Y_train4)\n",
    "\n",
    "predicted = clf.predict(test_vectors)\n",
    "print(\"Accuracy score from linear SVC model:\", classification_report(Y_test4, predicted))\n",
    "clf2 = nb.fit(train_vectors, Y_train4)\n",
    "predicted2 = clf2.predict(test_vectors)\n",
    "print(\"Accuracy score from Naive Bayes model:\", classification_report(Y_test4, predicted2))\n"
   ]
  },
  {
   "cell_type": "code",
   "execution_count": 39,
   "id": "c347f88e",
   "metadata": {},
   "outputs": [
    {
     "name": "stdout",
     "output_type": "stream",
     "text": [
      "Accuracy score from linear SVC model:               precision    recall  f1-score   support\n",
      "\n",
      "           0       0.00      0.00      0.00        40\n",
      "           1       0.62      1.00      0.76       181\n",
      "           2       1.00      0.10      0.18        80\n",
      "\n",
      "    accuracy                           0.63       301\n",
      "   macro avg       0.54      0.37      0.32       301\n",
      "weighted avg       0.64      0.63      0.51       301\n",
      "\n",
      "Accuracy score from Naive Bayes model:               precision    recall  f1-score   support\n",
      "\n",
      "           0       0.00      0.00      0.00        40\n",
      "           1       0.60      1.00      0.75       181\n",
      "           2       0.00      0.00      0.00        80\n",
      "\n",
      "    accuracy                           0.60       301\n",
      "   macro avg       0.20      0.33      0.25       301\n",
      "weighted avg       0.36      0.60      0.45       301\n",
      "\n"
     ]
    },
    {
     "name": "stderr",
     "output_type": "stream",
     "text": [
      "C:\\Users\\PIYALI\\AppData\\Local\\Programs\\Python\\Python311\\Lib\\site-packages\\sklearn\\metrics\\_classification.py:1344: UndefinedMetricWarning: Precision and F-score are ill-defined and being set to 0.0 in labels with no predicted samples. Use `zero_division` parameter to control this behavior.\n",
      "  _warn_prf(average, modifier, msg_start, len(result))\n",
      "C:\\Users\\PIYALI\\AppData\\Local\\Programs\\Python\\Python311\\Lib\\site-packages\\sklearn\\metrics\\_classification.py:1344: UndefinedMetricWarning: Precision and F-score are ill-defined and being set to 0.0 in labels with no predicted samples. Use `zero_division` parameter to control this behavior.\n",
      "  _warn_prf(average, modifier, msg_start, len(result))\n",
      "C:\\Users\\PIYALI\\AppData\\Local\\Programs\\Python\\Python311\\Lib\\site-packages\\sklearn\\metrics\\_classification.py:1344: UndefinedMetricWarning: Precision and F-score are ill-defined and being set to 0.0 in labels with no predicted samples. Use `zero_division` parameter to control this behavior.\n",
      "  _warn_prf(average, modifier, msg_start, len(result))\n",
      "C:\\Users\\PIYALI\\AppData\\Local\\Programs\\Python\\Python311\\Lib\\site-packages\\sklearn\\metrics\\_classification.py:1344: UndefinedMetricWarning: Precision and F-score are ill-defined and being set to 0.0 in labels with no predicted samples. Use `zero_division` parameter to control this behavior.\n",
      "  _warn_prf(average, modifier, msg_start, len(result))\n",
      "C:\\Users\\PIYALI\\AppData\\Local\\Programs\\Python\\Python311\\Lib\\site-packages\\sklearn\\metrics\\_classification.py:1344: UndefinedMetricWarning: Precision and F-score are ill-defined and being set to 0.0 in labels with no predicted samples. Use `zero_division` parameter to control this behavior.\n",
      "  _warn_prf(average, modifier, msg_start, len(result))\n",
      "C:\\Users\\PIYALI\\AppData\\Local\\Programs\\Python\\Python311\\Lib\\site-packages\\sklearn\\metrics\\_classification.py:1344: UndefinedMetricWarning: Precision and F-score are ill-defined and being set to 0.0 in labels with no predicted samples. Use `zero_division` parameter to control this behavior.\n",
      "  _warn_prf(average, modifier, msg_start, len(result))\n"
     ]
    }
   ],
   "source": [
    "with open('spicejet_tokens.json', 'r') as file:\n",
    "     token_data = json.load(file)\n",
    "\n",
    "# Convert lists of tokens into strings\n",
    "text_data5 = [' '.join(tokens) for tokens in token_data.values()]\n",
    "\n",
    "\n",
    "X_train5 ,X_test5 ,Y_train5 , Y_test5 = train_test_split(text_data5 ,review_spicejet , test_size=0.2)\n",
    "\n",
    "train_vectors = vectorizer.fit_transform(X_train5)\n",
    "test_vectors = vectorizer.transform(X_test5)\n",
    "clf = svc.fit(train_vectors, Y_train5)\n",
    "predicted = clf.predict(test_vectors)\n",
    "print(\"Accuracy score from linear SVC model:\", classification_report(Y_test5, predicted))\n",
    "clf2 = nb.fit(train_vectors, Y_train5)\n",
    "predicted2 = clf2.predict(test_vectors)\n",
    "print(\"Accuracy score from Naive Bayes model:\", classification_report(Y_test5, predicted2))"
   ]
  }
 ],
 "metadata": {
  "kernelspec": {
   "display_name": "Python 3 (ipykernel)",
   "language": "python",
   "name": "python3"
  },
  "language_info": {
   "codemirror_mode": {
    "name": "ipython",
    "version": 3
   },
   "file_extension": ".py",
   "mimetype": "text/x-python",
   "name": "python",
   "nbconvert_exporter": "python",
   "pygments_lexer": "ipython3",
   "version": "3.11.4"
  }
 },
 "nbformat": 4,
 "nbformat_minor": 5
}
